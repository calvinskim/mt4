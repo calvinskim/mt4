{
 "cells": [
  {
   "cell_type": "code",
   "execution_count": 28,
   "metadata": {},
   "outputs": [],
   "source": [
    "import pandas as pd\n",
    "import numpy as np\n",
    "import matplotlib.pyplot as plt\n",
    "from scipy import stats\n",
    "import os"
   ]
  },
  {
   "cell_type": "code",
   "execution_count": null,
   "metadata": {},
   "outputs": [],
   "source": [
    "input_file = 'social_data_final 2.csv'\n",
    "\n",
    "\n",
    "def load_dataset(file_path):\n",
    "    if os.path.exists(file_path):\n",
    "        df = pd.read_csv(file_path)\n",
    "        print(f\"Dataset '{file_path}' loaded successfully.\\n\")\n",
    "        return df\n",
    "    else:\n",
    "        raise FileNotFoundError(f\"The file '{file_path}' does not exist. Please check the file path.\")\n",
    "\n",
    "# Load the dataset\n",
    "df = load_dataset(input_file)\n"
   ]
  },
  {
   "cell_type": "code",
   "execution_count": null,
   "metadata": {},
   "outputs": [],
   "source": [
    "# Display the first five rows of the dataset\n",
    "print(\"First five rows of the dataset:\")\n",
    "display(df.head())\n"
   ]
  },
  {
   "cell_type": "code",
   "execution_count": null,
   "metadata": {},
   "outputs": [],
   "source": [
    "# Define the list of columns you want to drop\n",
    "columns_to_drop = ['age', 'no_channel_t12m', 'member_t12m'] \n",
    "\n",
    "#dropped because 67.5% of age is missing, safer to just remove this feature\n",
    "# no_channel and member removed as they all have only 1 value\n",
    "\n",
    "print(f\"Columns intended to drop: {columns_to_drop}\\n\")\n",
    "\n",
    "existing_columns_to_drop = [col for col in columns_to_drop if col in df.columns]\n",
    "\n",
    "if existing_columns_to_drop:\n",
    "    print(f\"Columns to be dropped (exist in DataFrame): {existing_columns_to_drop}\\n\")\n",
    "else:\n",
    "    print(\"No specified columns found in the DataFrame to drop.\\n\")\n",
    "df = df.drop(columns=existing_columns_to_drop)\n",
    "print(f\"Successfully dropped columns: {existing_columns_to_drop}\\n\")\n",
    "\n",
    "print(\"Remaining columns after dropping:\")\n",
    "print(df.columns.tolist())\n"
   ]
  },
  {
   "cell_type": "code",
   "execution_count": null,
   "metadata": {},
   "outputs": [],
   "source": [
    "\n",
    "def handle_missing_values(df, strategy='fill', fill_value=0):\n",
    "    if strategy == 'fill':\n",
    "        df_filled = df.fillna(fill_value)\n",
    "        print(f\"Missing values filled with {fill_value}.\\n\")\n",
    "        return df_filled\n",
    "    elif strategy == 'drop':\n",
    "        df_dropped = df.dropna()\n",
    "        print(\"Rows with missing values have been dropped.\\n\")\n",
    "        return df_dropped\n",
    "    else:\n",
    "        raise ValueError(\"Unsupported strategy for handling missing values.\")\n",
    "\n",
    "# Handle missing values by filling with 0\n",
    "df = handle_missing_values(df, strategy='fill', fill_value=0)"
   ]
  },
  {
   "cell_type": "code",
   "execution_count": null,
   "metadata": {},
   "outputs": [],
   "source": [
    "numerical_columns = df.select_dtypes(include=[np.number]).columns\n",
    "print(\"Numerical columns:\", numerical_columns.tolist())\n"
   ]
  },
  {
   "cell_type": "code",
   "execution_count": null,
   "metadata": {},
   "outputs": [],
   "source": [
    "def plot_histograms(df, bins=20, figsize=(15, 10)):\n",
    "    print(\"Plotting histograms for numerical columns...\\n\")\n",
    "    df.hist(bins=bins, figsize=figsize)\n",
    "    plt.tight_layout()\n",
    "    plt.show()\n",
    "\n",
    "# Plot histograms\n",
    "plot_histograms(df)\n"
   ]
  },
  {
   "cell_type": "markdown",
   "metadata": {},
   "source": [
    "Detecting Outliers We'll detect outliers using two methods:\n",
    "\n",
    "Z-Score Method, Interquartile Range (IQR) Method"
   ]
  },
  {
   "cell_type": "code",
   "execution_count": null,
   "metadata": {},
   "outputs": [],
   "source": [
    "# Function to detect outliers using Z-Score\n",
    "def detect_outliers_zscore(df, numerical_columns, threshold=3):\n",
    "    outliers = {}\n",
    "    print(\"Detecting outliers using Z-Score method\\n\")\n",
    "    for column in numerical_columns:\n",
    "        if df[column].nunique() > 1:\n",
    "            z_scores = np.abs(stats.zscore(df[column]))\n",
    "            outliers_indices = np.where(z_scores > threshold)[0]\n",
    "            outliers[column] = outliers_indices\n",
    "            print(f\"Z-Score Outliers in '{column}': {len(outliers_indices)} detected\")\n",
    "        else:\n",
    "            outliers[column] = np.array([])\n",
    "            print(f\"Z-Score Outliers in '{column}': 0 detected (constant column)\")\n",
    "    print(\"\\n\")\n",
    "    return outliers\n",
    "\n",
    "# Detect outliers using Z-Score\n",
    "outliers_zscore = detect_outliers_zscore(df, numerical_columns)\n"
   ]
  },
  {
   "cell_type": "code",
   "execution_count": null,
   "metadata": {},
   "outputs": [],
   "source": [
    "# Function to detect outliers using IQR\n",
    "def detect_outliers_iqr(df, numerical_columns):\n",
    "    outliers = {}\n",
    "    print(\"Detecting outliers using IQR method...\\n\")\n",
    "    for column in numerical_columns:\n",
    "        Q1 = df[column].quantile(0.25)\n",
    "        Q3 = df[column].quantile(0.75)\n",
    "        IQR = Q3 - Q1\n",
    "        lower_bound = Q1 - 1.5 * IQR\n",
    "        upper_bound = Q3 + 1.5 * IQR\n",
    "        condition = (df[column] < lower_bound) | (df[column] > upper_bound)\n",
    "        outliers_indices = df[condition].index\n",
    "        outliers[column] = outliers_indices\n",
    "        print(f\"IQR Outliers in '{column}': {len(outliers_indices)} detected\")\n",
    "    print(\"\\n\")\n",
    "    return outliers\n",
    "\n",
    "# Detect outliers using IQR\n",
    "outliers_iqr = detect_outliers_iqr(df, numerical_columns)"
   ]
  },
  {
   "cell_type": "markdown",
   "metadata": {},
   "source": [
    "Removing Outliers Based on IQR We'll remove the detected outliers using the IQR method to obtain a dataset without outliers"
   ]
  },
  {
   "cell_type": "code",
   "execution_count": null,
   "metadata": {},
   "outputs": [],
   "source": [
    "def remove_outliers_iqr(df, numerical_columns):\n",
    "    print(\"Removing outliers based on IQR method...\\n\")\n",
    "    Q1 = df[numerical_columns].quantile(0.25)\n",
    "    Q3 = df[numerical_columns].quantile(0.75)\n",
    "    IQR = Q3 - Q1\n",
    "    lower_bound = Q1 - 1.5 * IQR\n",
    "    upper_bound = Q3 + 1.5 * IQR\n",
    "    condition = ~((df[numerical_columns] < lower_bound) | (df[numerical_columns] > upper_bound)).any(axis=1)\n",
    "    df_no_outliers = df[condition]\n",
    "    print(\"Outliers removed.\")\n",
    "    print(f\"Original dataset size: {df.shape[0]} rows\")\n",
    "    print(f\"Dataset without outliers size: {df_no_outliers.shape[0]} rows\\n\")\n",
    "    return df_no_outliers\n",
    "\n",
    "# Remove outliers using IQR\n",
    "df_without_outliers = remove_outliers_iqr(df, numerical_columns)\n"
   ]
  },
  {
   "cell_type": "code",
   "execution_count": null,
   "metadata": {},
   "outputs": [],
   "source": [
    "\n",
    "def display_dataset_without_outliers(df):\n",
    "    print(\"Displaying the dataset without outliers:\\n\")\n",
    "    # Display the first 5 rows\n",
    "    print(\"First five rows of the dataset without outliers:\")\n",
    "    display(df.head())\n",
    "    \n",
    "    print(\"\\nSummary Statistics of Dataset Without Outliers:\")\n",
    "    display(df.describe())\n",
    "    \n",
    "    # Display the number of rows and columns\n",
    "    print(f\"\\nDataset without outliers contains {df.shape[0]} rows and {df.shape[1]} columns.\\n\")\n",
    "\n",
    "display_dataset_without_outliers(df_without_outliers)\n"
   ]
  },
  {
   "cell_type": "code",
   "execution_count": null,
   "metadata": {},
   "outputs": [],
   "source": [
    "def save_dataset_without_outliers(df, output_path):\n",
    "    try:\n",
    "        df.to_csv(output_path, index=False)\n",
    "        print(f\"Dataset without outliers saved to '{output_path}'.\\n\")\n",
    "    except Exception as e:\n",
    "        print(f\"Error saving file: {e}\\n\")\n",
    "\n",
    "\n",
    "output_file = 'social_data_without_outliers.csv'\n",
    "\n",
    "# Save the cleaned dataset\n",
    "save_dataset_without_outliers(df_without_outliers, output_file)\n"
   ]
  }
 ],
 "metadata": {
  "kernelspec": {
   "display_name": "base",
   "language": "python",
   "name": "python3"
  },
  "language_info": {
   "codemirror_mode": {
    "name": "ipython",
    "version": 3
   },
   "file_extension": ".py",
   "mimetype": "text/x-python",
   "name": "python",
   "nbconvert_exporter": "python",
   "pygments_lexer": "ipython3",
   "version": "3.13.0"
  }
 },
 "nbformat": 4,
 "nbformat_minor": 2
}
